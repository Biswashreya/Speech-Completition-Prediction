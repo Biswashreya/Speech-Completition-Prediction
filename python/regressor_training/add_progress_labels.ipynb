{
 "cells": [
  {
   "cell_type": "code",
   "execution_count": 2,
   "id": "575e1cb2",
   "metadata": {},
   "outputs": [
    {
     "name": "stdout",
     "output_type": "stream",
     "text": [
      "Loaded 3474 rows\n",
      "File 210.json: total duration 3648.0 sec\n",
      "File 211.json: total duration 3242.0 sec\n",
      "File 212.json: total duration 2447.0 sec\n",
      "File 213.json: total duration 2759.0 sec\n",
      "File 214.json: total duration 1626.0 sec\n",
      "File 215.json: total duration 2193.0 sec\n",
      "File 216.json: total duration 3062.0 sec\n",
      "File 217.json: total duration 1761.0 sec\n",
      "File 218.json: total duration 1574.0 sec\n",
      "File 219.json: total duration 2783.0 sec\n",
      "File 220.json: total duration 3593.0 sec\n",
      "File 221.json: total duration 2433.0 sec\n",
      "File 222.json: total duration 2152.0 sec\n",
      "File 223.json: total duration 2094.0 sec\n",
      "File 224.json: total duration 2461.0 sec\n",
      "File 225.json: total duration 2490.0 sec\n",
      "\n",
      "OK: saved 3474 rows with progress to ./progress_added.csv\n"
     ]
    }
   ],
   "source": [
    "import pandas as pd\n",
    "\n",
    "INPUT_PATH = \"../clustering/intermediate_data/clustered_embeddings.csv\"\n",
    "OUTPUT_PATH = \"./progress_added.csv\"\n",
    "NUM_BINS = 3\n",
    "\n",
    "\n",
    "def time_to_seconds(t):\n",
    "    \"\"\"Convert MM:SS or HH:MM:SS to seconds\"\"\"\n",
    "    parts = list(map(int, t.split(\":\")))\n",
    "    if len(parts) == 2:\n",
    "        return parts[0] * 60 + parts[1]\n",
    "    elif len(parts) == 3:\n",
    "        return parts[0] * 3600 + parts[1] * 60 + parts[2]\n",
    "    else:\n",
    "        return 0\n",
    "\n",
    "def extract_start_end_sec(row):\n",
    "    \"\"\"Parse row['start'] and row['end'] into seconds\"\"\"\n",
    "    start_sec = time_to_seconds(row[\"start\"])\n",
    "    end_sec = time_to_seconds(row[\"end\"])\n",
    "    return start_sec, end_sec\n",
    "\n",
    "\n",
    "df = pd.read_csv(INPUT_PATH)\n",
    "df = df[df[\"text\"].notnull() & df[\"text\"].str.strip().astype(bool)]\n",
    "print(f\"Loaded {len(df)} rows\")\n",
    "\n",
    "df[[\"start_sec\", \"end_sec\"]] = df.apply(lambda row: pd.Series(extract_start_end_sec(row)), axis=1)\n",
    "\n",
    "progress_values = []\n",
    "\n",
    "for file_name, group in df.groupby(\"file\"):\n",
    "    total_duration = group[\"end_sec\"].max()\n",
    "    print(f\"File {file_name}: total duration {total_duration:.1f} sec\")\n",
    "    \n",
    "    for i, row in group.iterrows():\n",
    "        center_time = (row[\"start_sec\"] + row[\"end_sec\"]) / 2\n",
    "        progress = center_time / total_duration  # fraction between 0-1\n",
    "        \n",
    "        if NUM_BINS > 0:\n",
    "            bin_size = 1.0 / NUM_BINS\n",
    "            progress = round(progress / bin_size) * bin_size\n",
    "        \n",
    "        progress_values.append(progress)\n",
    "\n",
    "df[\"progress\"] = progress_values\n",
    "\n",
    "\n",
    "df.to_csv(OUTPUT_PATH, index=False)\n",
    "print(f\"\\nOK: saved {len(df)} rows with progress to {OUTPUT_PATH}\")"
   ]
  }
 ],
 "metadata": {
  "kernelspec": {
   "display_name": "Python 3",
   "language": "python",
   "name": "python3"
  },
  "language_info": {
   "codemirror_mode": {
    "name": "ipython",
    "version": 3
   },
   "file_extension": ".py",
   "mimetype": "text/x-python",
   "name": "python",
   "nbconvert_exporter": "python",
   "pygments_lexer": "ipython3",
   "version": "3.10.10"
  }
 },
 "nbformat": 4,
 "nbformat_minor": 5
}
