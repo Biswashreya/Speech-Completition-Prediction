{
 "cells": [
  {
   "cell_type": "code",
   "execution_count": null,
   "id": "3d77d504",
   "metadata": {
    "vscode": {
     "languageId": "plaintext"
    }
   },
   "outputs": [],
   "source": [
    "import pandas as pd\n",
    "from top2vec import Top2Vec\n",
    "\n",
    "\n",
    "df = pd.read_csv(\"../clustering/intermediate_data/clustered_embeddings.csv\")\n",
    "df = df[df[\"text\"].notnull()]\n",
    "\n",
    "texts = df[\"text\"].tolist()\n",
    "print(f\"Training Top2Vec on {len(texts)} documents...\")\n",
    "\n",
    "\n",
    "model = Top2Vec(texts, speed=\"learn\", workers=4)\n",
    "\n",
    "\n",
    "topic_words, word_scores, topic_nums = model.get_topics()\n",
    "\n",
    "\n",
    "n_docs_per_topic = 3\n",
    "\n",
    "\n",
    "csv_data = []\n",
    "\n",
    "for topic_id, (words, scores, topic_num) in enumerate(zip(topic_words, word_scores, topic_nums)):\n",
    "    docs, doc_scores, doc_ids = model.search_documents_by_topic(topic_num=topic_num, num_docs=n_docs_per_topic)\n",
    "\n",
    "    \n",
    "    csv_data.append({\n",
    "        \"topic_num\": topic_num,\n",
    "        \"top_words\": \", \".join(words),\n",
    "        \"word_scores\": \", \".join([f\"{s:.4f}\" for s in scores]),\n",
    "        \"representative_docs\": \" ||| \".join(docs)\n",
    "    })\n",
    "\n",
    "\n",
    "output_df = pd.DataFrame(csv_data)\n",
    "output_df.to_csv(\"top2vec_clustered_topics.csv\", index=False)\n",
    "\n",
    "print(\"Topics and representative documents saved to top2vec_clustered_topics.csv\")\n"
   ]
  }
 ],
 "metadata": {
  "kernelspec": {
   "display_name": "Python(speechenv)",
   "language": "python",
   "name": "speechenv"
  },
  "language_info": {
   "codemirror_mode": {
    "name": "ipython",
    "version": 3
   },
   "file_extension": ".py",
   "mimetype": "text/x-python",
   "name": "python",
   "nbconvert_exporter": "python",
   "pygments_lexer": "ipython3",
   "version": "3.11.4"
  }
 },
 "nbformat": 4,
 "nbformat_minor": 5
}
