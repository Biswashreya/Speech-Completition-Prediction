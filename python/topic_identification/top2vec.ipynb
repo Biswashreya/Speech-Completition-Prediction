{
 "cells": [
  {
   "cell_type": "code",
   "execution_count": null,
   "id": "3d77d504",
   "metadata": {
    "vscode": {
     "languageId": "plaintext"
    }
   },
   "outputs": [],
   "source": [
    "import pandas as pd\n",
    "from top2vec import Top2Vec\n",
    "\n",
    "df = pd.read_csv(\"../clustering/intermediate_data/clustered_embeddings.csv\")\n",
    "df = df[df[\"text\"].notnull()]\n",
    "\n",
    "texts = df[\"text\"].tolist()\n",
    "\n",
    "print(f\"Training Top2Vec on {len(texts)} documents...\")\n",
    "\n",
    "model = Top2Vec(texts, speed=\"learn\", workers=4)\n",
    "\n",
    "topic_words, word_scores, topic_nums = model.get_topics()\n",
    "\n",
    "for i, topic in enumerate(topic_words[:10]):\n",
    "    print(f\"\\nTopic {i}:\")\n",
    "    print(topic)"
   ]
  }
 ],
 "metadata": {
  "language_info": {
   "name": "python"
  }
 },
 "nbformat": 4,
 "nbformat_minor": 5
}
