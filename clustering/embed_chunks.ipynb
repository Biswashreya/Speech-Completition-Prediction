{
 "cells": [
  {
   "cell_type": "code",
   "execution_count": null,
   "id": "70859458-c779-414a-8553-3e27080f6634",
   "metadata": {},
   "outputs": [
    {
     "name": "stderr",
     "output_type": "stream",
     "text": [
      "C:\\Users\\ved\\Desktop\\completion-meter\\.venv\\Lib\\site-packages\\tqdm\\auto.py:21: TqdmWarning: IProgress not found. Please update jupyter and ipywidgets. See https://ipywidgets.readthedocs.io/en/stable/user_install.html\n",
      "  from .autonotebook import tqdm as notebook_tqdm\n",
      "Batches: 100%|██████████████████████████████████████████████████████████████████████████████████| 2874/2874 [50:29<00:00,  1.05s/it]\n"
     ]
    },
    {
     "name": "stdout",
     "output_type": "stream",
     "text": [
      "Saved 91940 embeddings to ./embeddings/chunk_embeddings_tedex.json\n"
     ]
    }
   ],
   "source": [
    "from sentence_transformers import SentenceTransformer\n",
    "import json\n",
    "import os\n",
    "\n",
    "model = SentenceTransformer(\"all-MiniLM-L6-v2\")\n",
    "\n",
    "chunk_dir = \"\"\n",
    "output_file = \"\"\n",
    "os.makedirs(os.path.dirname(output_file), exist_ok=True)\n",
    "\n",
    "all_chunks = []\n",
    "for filename in sorted(os.listdir(chunk_dir)):\n",
    "    if filename.endswith(\"_chunks.json\"):\n",
    "        with open(os.path.join(chunk_dir, filename), \"r\", encoding=\"utf-8\") as f:\n",
    "            chunks = json.load(f)\n",
    "            all_chunks.extend(chunks)\n",
    "\n",
    "texts = [chunk[\"text\"] for chunk in all_chunks]\n",
    "embeddings = model.encode(texts, show_progress_bar=True)\n",
    "\n",
    "chunk_embeddings = []\n",
    "for chunk, embedding in zip(all_chunks, embeddings):\n",
    "    chunk_embeddings.append(\n",
    "        {\n",
    "            \"speech_id\": chunk[\"speech_id\"],\n",
    "            \"chunk_id\": chunk[\"chunk_id\"] ,\n",
    "            \"position\": chunk[\"position\"],\n",
    "            \"embedding\" : embedding.tolist()\n",
    "        }\n",
    "    )\n",
    "\n",
    "with open(output_file, \"w\", encoding=\"utf-8\") as f:\n",
    "    json.dump(chunk_embeddings, f, indent=2)\n",
    "\n",
    "print(f\"Saved {len(chunk_embeddings)} embeddings to {output_file}\")"
   ]
  },
  {
   "cell_type": "code",
   "execution_count": null,
   "id": "f5921897-d216-4d65-8d41-5bef511a0895",
   "metadata": {},
   "outputs": [],
   "source": []
  }
 ],
 "metadata": {
  "kernelspec": {
   "display_name": "Python (myenv)",
   "language": "python",
   "name": "myenv"
  },
  "language_info": {
   "codemirror_mode": {
    "name": "ipython",
    "version": 3
   },
   "file_extension": ".py",
   "mimetype": "text/x-python",
   "name": "python",
   "nbconvert_exporter": "python",
   "pygments_lexer": "ipython3",
   "version": "3.11.4"
  }
 },
 "nbformat": 4,
 "nbformat_minor": 5
}
