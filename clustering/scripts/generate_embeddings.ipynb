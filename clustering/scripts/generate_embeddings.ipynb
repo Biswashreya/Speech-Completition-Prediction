{
 "cells": [
  {
   "cell_type": "code",
   "execution_count": 2,
   "id": "1f6ebee9-65de-4b32-bd08-a7faf8036178",
   "metadata": {},
   "outputs": [
    {
     "name": "stderr",
     "output_type": "stream",
     "text": [
      "Batches: 100%|████████████| 37/37 [00:14<00:00,  2.60it/s]\n"
     ]
    },
    {
     "name": "stdout",
     "output_type": "stream",
     "text": [
      "Embeddings saved to embeddings_added.csv\n"
     ]
    }
   ],
   "source": [
    "import pandas as pd\n",
    "from sentence_transformers import SentenceTransformer\n",
    "import numpy as np\n",
    "\n",
    "df = pd.read_csv(\"../../data_collection_and_preprocessing/preprocessed_transcripts.csv\")\n",
    "model = SentenceTransformer(\"all-MiniLM-L6-v2\")\n",
    "embeddings = model.encode(df[\"text\"].tolist(), show_progress_bar=True)\n",
    "\n",
    "df[\"embedding\"] = [e.tolist() for e in embeddings]\n",
    "df.to_csv(\"../intermediate_data/embeddings_added.csv\", index=False)\n",
    "\n",
    "print(\"Embeddings saved to embeddings_added.csv\")"
   ]
  }
 ],
 "metadata": {
  "kernelspec": {
   "display_name": "Python (myenv)",
   "language": "python",
   "name": "myenv"
  },
  "language_info": {
   "codemirror_mode": {
    "name": "ipython",
    "version": 3
   },
   "file_extension": ".py",
   "mimetype": "text/x-python",
   "name": "python",
   "nbconvert_exporter": "python",
   "pygments_lexer": "ipython3",
   "version": "3.11.4"
  }
 },
 "nbformat": 4,
 "nbformat_minor": 5
}
